{
 "cells": [
  {
   "cell_type": "markdown",
   "metadata": {},
   "source": [
    "这里主要是对实验中的数据进行线性拟合，获取拟合数据从而导入神经网络模型中。\n",
    "\n",
    "需要注意的是：\n",
    "- 用于拟合的实验数据需要保证单调变化，如果数据中存在两个相等的数据或者出现上下波动会影响拟合的结果（但如果运行未出错就不需要管）\n",
    "- 文件需要分别将上升段和下降段分别保存，上升段保存为“your_name-GP.txt”，下降段保存为“your_name-GD.txt”，`your_name`自行设置名称用于区分即可，**建议使用英文**\n",
    "- 为了保证文件结构的整洁，用于拟合的权重数据请放置在`data`文件夹中\n",
    "\n",
    "这里使用的拟合方程如下：\n",
    "\n",
    "$$GP_+ = GP_- + \\alpha_P \\cdot exp({-\\beta_P \\cdot \\frac{GP_- - GP_{min}}{GP_{max}-GP_{min}}})$$\n",
    "\n",
    "$$GD_+ = GD_- + \\alpha_D \\cdot exp({-\\beta_D \\cdot \\frac{GD_{max} - GD_-}{GD_{max}-GD_{min}}})$$\n",
    "\n",
    "其中，$\\beta$为非线性度，数值越大曲线越弯；$\\alpha$相当于步长（系数），即相邻两个数据点之间的差值程度"
   ]
  },
  {
   "cell_type": "code",
   "execution_count": 1,
   "metadata": {},
   "outputs": [],
   "source": [
    "import matplotlib.pyplot as plt\n",
    "from scipy.optimize import curve_fit\n",
    "import numpy as np\n",
    "import os\n",
    "# 读取文件数据\n",
    "def read_G(your_name):\n",
    "    filepath= './data/'\n",
    "\n",
    "    GD = []\n",
    "    GP = []\n",
    "\n",
    "    f_P = open(f\"{filepath}{your_name}-GP.txt\", 'r')\n",
    "    f_D = open(f\"{filepath}{your_name}-GD.txt\", 'r')\n",
    "    for each_P in f_P:\n",
    "        GP.append(float(each_P.replace('\\n', '')))\n",
    "    for each_D in f_D:\n",
    "        GD.append(float(each_D.replace('\\n', '')))\n",
    "    \n",
    "    return abs(np.array(GP)), abs(np.array(GD))\n",
    "# 进行拟合\n",
    "def my_fit(your_name, save=False):\n",
    "    \n",
    "    GP_ori, GD_ori = read_G(your_name)\n",
    "\n",
    "    # 归一化方法1：\n",
    "    # GP_nor = GP_ori/max(GP_ori)\n",
    "    # GD_nor = GD_ori/max(GD_ori)\n",
    "\n",
    "    # 归一化方法2：\n",
    "    # GP_nor = (GP_ori-min(GP_ori))/(max(GP_ori)-min(GP_ori))\n",
    "    # GD_nor = (GD_ori-min(GD_ori))/(max(GD_ori)-min(GD_ori))\n",
    "\n",
    "    # 归一化方法3：\n",
    "    GP_nor = (GP_ori-min(GP_ori))/(max(GP_ori)-min(GP_ori))\n",
    "    GD_nor = (GD_ori-min(GD_ori))/(max(GD_ori)-min(GD_ori))\n",
    "\n",
    "    P = np.arange(1, int(len(GP_ori)), 1)\n",
    "    D = np.arange(1, int(len(GD_ori)), 1)\n",
    "\n",
    "    GPmax = max(GP_nor)\n",
    "    GPmin = min(GP_nor)\n",
    "    GDmax = max(GD_nor)\n",
    "    GDmin = min(GD_nor)\n",
    "    xP = GP_nor[:-1]\n",
    "    yP = GP_nor[1:]\n",
    "    xD = GD_nor[:-1]\n",
    "    yD = GD_nor[1:]\n",
    "\n",
    "    print(f'GP-max:{GPmax}, GP-min:{GPmin}')\n",
    "    print(f'GD-max:{GDmax}, GD-min:{GDmin}')\n",
    "\n",
    "    # 电导拟合公式 其中aP，aD为拟合参数，bP与bD为非线性度\n",
    "    def delt_GP(xP, bP, aP):\n",
    "        yP = xP + aP * np.exp(-bP * ((xP - GPmin) / (GPmax - GPmin)))\n",
    "        return yP\n",
    "    def delt_GD(xD, bD, aD):\n",
    "        yD = xD + aD * np.exp(-bD * ((GDmax - xD) / (GDmax - GDmin)))\n",
    "        return yD\n",
    "\n",
    "    # 电导数据拟合\n",
    "    np.random.seed(0)\n",
    "    def curve_fit_GP(P, xP, yP, your_name, save=False, save_name='-GP'):\n",
    "        # yP 段拟合数据\n",
    "        while True:\n",
    "            err_stdev = 0 # 0.2\n",
    "            yP_noise = err_stdev * np.random.normal(size=yP.size)\n",
    "            yP_data = yP + yP_noise\n",
    "            popt, pcov = curve_fit(delt_GP, xP, yP_data)#训练函数\n",
    "            bP = popt[0]\n",
    "            aP = popt[1]\n",
    "            if bP < 0:\n",
    "                continue\n",
    "            else:\n",
    "                break\n",
    "        yPvals=delt_GP(xP, bP, aP)\n",
    "        plt.plot(P, yP, '*',label='original values')\n",
    "        plt.plot(P, yPvals, 'r',label='curve_fit values')\n",
    "        # plt.ylim(0, 1)\n",
    "        plt.xlabel('P axis')\n",
    "        plt.ylabel('GP axis')\n",
    "        plt.legend(loc=4)\n",
    "        plt.title(f\"{your_name} curve_fit aP = %0.2f, bP = %0.2f\" %(aP, bP))\n",
    "        if save:\n",
    "            plt.savefig(your_name + save_name + '.png', dpi=720)\n",
    "            np.savetxt(your_name + save_name + '.txt', yPvals)\n",
    "            print(\"GP-拟合图象与拟合数据已保存！\")\n",
    "        plt.show()\n",
    "        return yPvals, GPmax\n",
    "    def curve_fit_GD(D, xD, yD, your_name, save=False, save_name='-GD'):\n",
    "        # yD 段拟合数据\n",
    "        # while True:\n",
    "        err_stdev = 0 # 0.2\n",
    "        yD_noise = err_stdev * np.random.normal(size=xD.size)\n",
    "        yD_data = yD + yD_noise\n",
    "        popt, pcov = curve_fit(delt_GD, xD, yD_data)#训练函数\n",
    "        bD = popt[0]\n",
    "        aD = popt[1]\n",
    "            # if bD < 0:\n",
    "            #     continue\n",
    "            # else:\n",
    "            #     break\n",
    "        yDvals=delt_GD(xD, bD, aD)\n",
    "        plt.plot(D, yD, '*',label='original values')\n",
    "        plt.plot(D, yDvals, 'r',label='curve_fit values')\n",
    "        # plt.ylim(0,1)\n",
    "        plt.xlabel('D axis')\n",
    "        plt.ylabel('GD axis')\n",
    "        plt.legend(loc=3)\n",
    "        plt.title(f\"{your_name} curve_fit aD = %0.2f, bD = %0.2f\" %(aD, bD))\n",
    "        if save:\n",
    "            plt.savefig(your_name + save_name + '.png', dpi=720)\n",
    "            np.savetxt(your_name + save_name + '.txt', yDvals)\n",
    "            print(\"GD-拟合图象与拟合数据已保存！\")\n",
    "        plt.show()\n",
    "        return yDvals, GDmax\n",
    "\n",
    "\n",
    "    if save:\n",
    "        np.savetxt(f\"{your_name}-GP_nor.txt\", GP_nor)\n",
    "        np.savetxt(f\"{your_name}-GD_nor.txt\", GD_nor)\n",
    "        print(\"归一化电导数据已保存！\")\n",
    "\n",
    "    yPvals, yP = curve_fit_GP(P, xP, yP, your_name, save)\n",
    "    yDvals, yD = curve_fit_GD(D, xD, yD, your_name, save)\n",
    "    return yPvals, yP, yDvals, yD\n",
    "\n",
    "# 主函数\n",
    "def main(save):\n",
    "    your_name = input(\"请输入你的文件标识(如: 张三的'zs'))\")\n",
    "    yPvals, yP, yDvals, yD = my_fit(your_name, save)\n",
    "    print(\"请自行记录下图片中拟合参数的数值！\")\n",
    "    return yPvals, yP, yDvals, yD"
   ]
  },
  {
   "cell_type": "markdown",
   "metadata": {},
   "source": [
    "运行下面单元格会跳出输入框，输入自己设置的名称即先前设置的`your_name`即可\n",
    "\n",
    "运行完毕后会自动绘制拟合图像，对应的拟合参数会在图片上方写出，如图所示。\n",
    "\n",
    "![](./img/%E6%8B%9F%E5%90%88%E8%84%9A%E6%9C%AC%E8%BF%90%E8%A1%8C.png)\n",
    "\n",
    "注：`yP`与`yD`分别对应上升段和下降段的归一化数据，带有`vals`的为对应段的拟合数据，如有需要自行保存即可。"
   ]
  },
  {
   "cell_type": "code",
   "execution_count": 4,
   "metadata": {},
   "outputs": [
    {
     "name": "stdout",
     "output_type": "stream",
     "text": [
      "请输入你的文件标识(如: 张三的'zs'))lwl_1\n",
      "GP-max:1.0, GP-min:0.0\n",
      "GD-max:1.0, GD-min:0.0\n"
     ]
    },
    {
     "data": {
      "image/png": "[encoded data removed]",
      "text/plain": [
       "<Figure size 432x288 with 1 Axes>"
      ]
     },
     "metadata": {
      "needs_background": "light"
     },
     "output_type": "display_data"
    },
    {
     "data": {
      "image/png": "[encoded data removed]",
      "text/plain": [
       "<Figure size 432x288 with 1 Axes>"
      ]
     },
     "metadata": {
      "needs_background": "light"
     },
     "output_type": "display_data"
    },
    {
     "name": "stdout",
     "output_type": "stream",
     "text": [
      "请自行记录下图片中拟合参数的数值！\n"
     ]
    }
   ],
   "source": [
    "yPvals, yP, yDvals, yD = main(save=False)\n",
    "# print(yPvals)\n",
    "# print(yDvals)"
   ]
  },
  {
   "cell_type": "code",
   "execution_count": null,
   "metadata": {},
   "outputs": [],
   "source": []
  }
 ],
 "metadata": {
  "kernelspec": {
   "display_name": "Python 3 (ipykernel)",
   "language": "python",
   "name": "python3"
  },
  "language_info": {
   "codemirror_mode": {
    "name": "ipython",
    "version": 3
   },
   "file_extension": ".py",
   "mimetype": "text/x-python",
   "name": "python",
   "nbconvert_exporter": "python",
   "pygments_lexer": "ipython3",
   "version": "3.9.12"
  },
  "vscode": {
   "interpreter": {
    "hash": "60ce83c6e79e7157b888faf25f07efd710e302eccd22d7beafeda52d845fdeb9"
   }
  }
 },
 "nbformat": 4,
 "nbformat_minor": 2
}
