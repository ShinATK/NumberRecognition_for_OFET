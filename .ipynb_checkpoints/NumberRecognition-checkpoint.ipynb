{
 "cells": [
  {
   "cell_type": "markdown",
   "metadata": {},
   "source": [
    "# 神经网络数字识别\n",
    "\n",
    "这部分主要操作就是将从实验器件中获取的权重变化曲线导入到模型中，让模型的权重变化按照器件的权重变化曲线进行更行。\n",
    "\n",
    "比如下图就是实验中突触器件的电导变化曲线，左侧蓝色部分为 potential，右侧黄色部分为 depression。\n",
    "\n",
    "![](./img/%E5%AE%9E%E9%AA%8C%E6%95%B0%E6%8D%AE%E6%9B%B2%E7%BA%BF.png)\n",
    "\n",
    "即模型的权重需要增加时，按照蓝色部分曲线进行更新，需要减小时按照黄色部分曲线进行更新。\n",
    "\n",
    "注：**本文件中建立的神经网络为单层，并且为针对单个数字的训练**\n",
    "\n",
    "![](./img/%E5%8D%95%E5%B1%82%E5%8D%95%E8%BE%93%E5%87%BA%E7%A5%9E%E7%BB%8F%E7%BD%91%E7%BB%9C.png)\n",
    "\n",
    "如果需要增加神经网络的层数，可以自行对 **4.神经网络主体部分** 中的内容进行修改。\n",
    "\n",
    "*因为这里没有使用面向对象的方法进行建立模型，所以在修改层数以及输出层数量时会比较麻烦*\n",
    "\n",
    "如果没有强制需求，不建议修改。\n",
    "\n",
    "我在`data`文件夹中放了一份用于测试的权重数据，可以用来按照操作自行尝试一次。"
   ]
  },
  {
   "cell_type": "markdown",
   "metadata": {},
   "source": [
    "## 1.模型前置\n",
    "\n",
    "这一部分主要是导入第三方库，导入MNIST手写数字训练数据集等等，不需要动"
   ]
  },
  {
   "cell_type": "code",
   "execution_count": 45,
   "metadata": {},
   "outputs": [],
   "source": [
    "# 导入第三方库\n",
    "\n",
    "import numpy as np\n",
    "from pathlib import Path\n",
    "import struct\n",
    "import matplotlib.pyplot as plt\n",
    "import copy\n",
    "import time\n",
    "from scipy.optimize import curve_fit\n",
    "import os\n",
    "from rich.progress import track\n",
    "\n",
    "\n",
    "# 读取MNIST手写数字数据集\n",
    "\n",
    "dataset_path = Path(\"./MNIST\")\n",
    "train_img_path = dataset_path/'train-images-idx3-ubyte'\n",
    "train_lab_path = dataset_path/'train-labels-idx1-ubyte'\n",
    "test_img_path = dataset_path/'t10k-images-idx3-ubyte'\n",
    "test_lab_path = dataset_path/'t10k-labels-idx1-ubyte'\n",
    "\n",
    "with open(train_img_path, \"rb\") as f:\n",
    "    struct.unpack(\">4i\", f.read(16))\n",
    "    tmp_img = np.fromfile(f, dtype=np.uint8).reshape(-1, 28*28)/255\n",
    "    train_img = tmp_img[:]\n",
    "with open(test_img_path, \"rb\") as f:\n",
    "    struct.unpack(\">4i\", f.read(16))\n",
    "    test_img = np.fromfile(f, dtype=np.uint8).reshape(-1, 28*28)/255\n",
    "with open(train_lab_path, \"rb\") as f:\n",
    "    struct.unpack(\">2i\", f.read(8))\n",
    "    tmp_lab = np.fromfile(f, dtype=np.uint8).reshape(-1, 1)\n",
    "    train_lab = tmp_lab[:]\n",
    "with open(test_lab_path, \"rb\") as f:\n",
    "    struct.unpack(\">2i\", f.read(8))\n",
    "    test_lab = np.fromfile(f, dtype=np.uint8).reshape(-1, 1)\n",
    "# len(train_img)\n",
    "\n",
    "# 用于显示数据集数字图片\n",
    "# FUNCTION: show_image(index)\n",
    "def show_image(img, index):\n",
    "    plt.imshow(img[index].reshape(28, 28), cmap='gray')\n",
    "    plt.pause(1)\n",
    "    # print(\"label: {}\".format(label[index]))\n",
    "    return 0"
   ]
  },
  {
   "cell_type": "markdown",
   "metadata": {},
   "source": [
    "下边单元格用于获取训练集和测试集的形状\n",
    "\n",
    "\n",
    "![](./img/train_test_shape.png)\n",
    "\n",
    "比如 `train_img.shape` 为 (60000, 784)，\n",
    "\n",
    "这里的 60000 为训练集个数，即训练集中一共有 60000 个手写数字图片，784为 28*28，即单个样本所包含的数据量\n",
    "\n",
    "因为这些图片都是 28*28 大小的，之前导入数据集时候已经将图片 flatten 为一维向量了\n",
    "\n",
    "测试集 test 同理，但突触这里一般只用训练集训练即可，测试集一般不用，或者可以将测试集并入训练集一块用于训练模型（不知道如何操作可以不用改动）\n",
    "\n"
   ]
  },
  {
   "cell_type": "code",
   "execution_count": 4,
   "metadata": {},
   "outputs": [
    {
     "name": "stdout",
     "output_type": "stream",
     "text": [
      "(60000, 784)\n",
      "(10000, 784)\n",
      "(60000, 1)\n"
     ]
    },
    {
     "data": {
      "text/plain": [
       "array([[5],\n",
       "       [0],\n",
       "       [4],\n",
       "       ...,\n",
       "       [5],\n",
       "       [6],\n",
       "       [8]], dtype=uint8)"
      ]
     },
     "execution_count": 4,
     "metadata": {},
     "output_type": "execute_result"
    }
   ],
   "source": [
    "# 这里获取训练集和测试集的矩阵形状\n",
    "\n",
    "train_num = train_img.shape[0]\n",
    "test_num = test_img.shape[0]\n",
    "print(train_img.shape)\n",
    "print(test_img.shape)\n",
    "print(train_lab.shape)\n",
    "train_lab"
   ]
  },
  {
   "cell_type": "code",
   "execution_count": 5,
   "metadata": {},
   "outputs": [
    {
     "name": "stdout",
     "output_type": "stream",
     "text": [
      "(array([0, 0, 0, ..., 0, 0, 0], dtype=int64), array([    3,     6,     8, ..., 59979, 59984, 59994], dtype=int64))\n",
      "train set shape: (784, 60000)\n",
      "train lab shape: (1, 60000)\n",
      "test set shape: (784, 10000)\n",
      "test lab shape: (1, 10000)\n"
     ]
    },
    {
     "data": {
      "text/plain": [
       "(-0.5, 27.5, 27.5, -0.5)"
      ]
     },
     "execution_count": 5,
     "metadata": {},
     "output_type": "execute_result"
    },
    {
     "data": {
      "image/png": "[encoded data removed]",
      "text/plain": [
       "<Figure size 432x288 with 1 Axes>"
      ]
     },
     "metadata": {
      "needs_background": "light"
     },
     "output_type": "display_data"
    }
   ],
   "source": [
    "# 将给定num的label改为1\n",
    "def train_setY(num):\n",
    "    label = train_lab.copy()\n",
    "    label[np.where(label != num)] = 10\n",
    "    label[np.where(label == num)] = 1\n",
    "    label[np.where(label == 10)] = 0\n",
    "    return label\n",
    "def test_setY(num):\n",
    "    label = test_lab.copy()\n",
    "    label[np.where(label != num)] = 10\n",
    "    label[np.where(label == num)] = 1\n",
    "    label[np.where(label == 10)] = 0\n",
    "    return label\n",
    "\n",
    "reg_num = 1 # 指定训练的数字\n",
    "\n",
    "train_X = train_img.copy().T\n",
    "train_Y = train_setY(reg_num).T\n",
    "index_regnum = np.where(train_Y==1)\n",
    "print(index_regnum)\n",
    "test_X = test_img.copy().T\n",
    "test_Y = test_setY(reg_num).T\n",
    "print(f\"train set shape: {train_X.shape}\")\n",
    "print(f\"train lab shape: {train_Y.shape}\")\n",
    "print(f\"test set shape: {test_X.shape}\")\n",
    "print(f\"test lab shape: {test_Y.shape}\")\n",
    "\n",
    "# show_image(train_X.T, 1)\n",
    "hw0 = train_X.T\n",
    "i = index_regnum[1][0]\n",
    "# np.save(f'handwritten{reg_num}.npy', hw0[i])\n",
    "plt.imshow(hw0[i].reshape((28,28)))\n",
    "plt.axis('off')\n",
    "# np.savetxt(f'handwritten{reg_num}.txt', hw0[i])"
   ]
  },
  {
   "cell_type": "markdown",
   "metadata": {},
   "source": [
    "**至此单元格以上的部分，直接运行即可。唯一需要注意的是 MNIST 文件夹需要和本文件放在同一个根目录下**"
   ]
  },
  {
   "cell_type": "markdown",
   "metadata": {},
   "source": [
    "## 2.设置训练目标\n",
    "\n",
    "这里设置模型所想要训练的数字。\n",
    "\n",
    "比如我想训练模型对数字3的识别，只需要更改`reg_num`的值即可。\n",
    "\n",
    "运行下边单元格会自动将`reg_num`所代表的数字对应的标签设置为$1$，其余数字的标签均设置为$0$。\n",
    "\n",
    "如图为MNIST中某一个数字$3$的图像\n",
    "\n",
    "![](./img/%E6%95%B0%E6%8D%AE%E9%9B%86%E4%B8%AD%E6%95%B0%E5%AD%973%E5%9B%BE%E5%83%8F.png)"
   ]
  },
  {
   "cell_type": "markdown",
   "metadata": {},
   "source": [
    "## 3.导入权重变化曲线\n",
    "\n",
    "这里需要导入实验上获取的权重数据了。\n",
    "\n",
    "实验上一般是测对应器件的电导变化，使用另一个文件`fit_curve.ipynb`对曲线进行参数拟合，将对应参数输入到这里即可。\n",
    "\n",
    "运行下边单元格会自动根据拟合参数绘制曲线。\n",
    "\n",
    "类似于下图\n",
    "\n",
    "![](./img/%E8%AE%BE%E7%BD%AE%E5%8F%82%E6%95%B0%E7%9A%84%E6%9D%83%E9%87%8D%E5%8F%98%E5%8C%96%E6%9B%B2%E7%BA%BF.png)"
   ]
  },
  {
   "cell_type": "code",
   "execution_count": null,
   "metadata": {},
   "outputs": [],
   "source": [
    "# 读取文件数据\n",
    "def read_G(your_name):\n",
    "    filepath= './data/'\n",
    "\n",
    "    GD = []\n",
    "    GP = []\n",
    "\n",
    "    f_P = open(f\"{filepath}{your_name}-GP.txt\", 'r')\n",
    "    f_D = open(f\"{filepath}{your_name}-GD.txt\", 'r')\n",
    "    for each_P in f_P:\n",
    "        GP.append(float(each_P.replace('\\n', '')))\n",
    "    for each_D in f_D:\n",
    "        GD.append(float(each_D.replace('\\n', '')))\n",
    "    \n",
    "    return abs(np.array(GP)), abs(np.array(GD))\n",
    "# 进行拟合\n",
    "def my_fit(your_name, save=False):\n",
    "    \n",
    "    GP_ori, GD_ori = read_G(your_name)\n",
    "\n",
    "    # 归一化方法1：\n",
    "    # GP_nor = GP_ori/max(GP_ori)\n",
    "    # GD_nor = GD_ori/max(GD_ori)\n",
    "\n",
    "    # 归一化方法2：\n",
    "    # GP_nor = (GP_ori-min(GP_ori))/(max(GP_ori)-min(GP_ori))\n",
    "    # GD_nor = (GD_ori-min(GD_ori))/(max(GD_ori)-min(GD_ori))\n",
    "\n",
    "    # 归一化方法3：\n",
    "    GP_nor = (GP_ori-min(GP_ori))/(max(GP_ori)-min(GP_ori))\n",
    "    GD_nor = (GD_ori-min(GD_ori))/(max(GD_ori)-min(GD_ori))\n",
    "\n",
    "    P = np.arange(1, int(len(GP_ori)), 1)\n",
    "    D = np.arange(1, int(len(GD_ori)), 1)\n",
    "\n",
    "    GPmax = max(GP_nor)\n",
    "    GPmin = min(GP_nor)\n",
    "    GDmax = max(GD_nor)\n",
    "    GDmin = min(GD_nor)\n",
    "    xP = GP_nor[:-1]\n",
    "    yP = GP_nor[1:]\n",
    "    xD = GD_nor[:-1]\n",
    "    yD = GD_nor[1:]\n",
    "\n",
    "    print(f'GP-max:{GPmax}, GP-min:{GPmin}')\n",
    "    print(f'GD-max:{GDmax}, GD-min:{GDmin}')\n",
    "\n",
    "    # 电导拟合公式 其中aP，aD为拟合参数，bP与bD为非线性度\n",
    "    def delt_GP(xP, bP, aP):\n",
    "        yP = xP + aP * np.exp(-bP * ((xP - GPmin) / (GPmax - GPmin)))\n",
    "        return yP\n",
    "    def delt_GD(xD, bD, aD):\n",
    "        yD = xD + aD * np.exp(-bD * ((GDmax - xD) / (GDmax - GDmin)))\n",
    "        return yD\n",
    "\n",
    "    # 电导数据拟合\n",
    "    np.random.seed(0)\n",
    "    def curve_fit_GP(P, xP, yP, your_name, save=False, save_name='-GP'):\n",
    "        # yP 段拟合数据\n",
    "        while True:\n",
    "            err_stdev = 0 # 0.2\n",
    "            yP_noise = err_stdev * np.random.normal(size=yP.size)\n",
    "            yP_data = yP + yP_noise\n",
    "            popt, pcov = curve_fit(delt_GP, xP, yP_data)#训练函数\n",
    "            bP = popt[0]\n",
    "            aP = popt[1]\n",
    "            if bP < 0:\n",
    "                continue\n",
    "            else:\n",
    "                break\n",
    "        yPvals=delt_GP(xP, bP, aP)\n",
    "        plt.plot(P, yP, '*',label='original values')\n",
    "        plt.plot(P, yPvals, 'r',label='curve_fit values')\n",
    "        # plt.ylim(0, 1)\n",
    "        plt.xlabel('P axis')\n",
    "        plt.ylabel('GP axis')\n",
    "        plt.legend(loc=4)\n",
    "        plt.title(f\"{your_name} curve_fit aP = %0.2f, bP = %0.2f\" %(aP, bP))\n",
    "        if save:\n",
    "            plt.savefig(your_name + save_name + '.png', dpi=720)\n",
    "            np.savetxt(your_name + save_name + '.txt', yPvals)\n",
    "            print(\"GP-拟合图象与拟合数据已保存！\")\n",
    "        plt.show()\n",
    "        return yPvals, GPmax, aP, bP\n",
    "    def curve_fit_GD(D, xD, yD, your_name, save=False, save_name='-GD'):\n",
    "        # yD 段拟合数据\n",
    "        # while True:\n",
    "        err_stdev = 0 # 0.2\n",
    "        yD_noise = err_stdev * np.random.normal(size=xD.size)\n",
    "        yD_data = yD + yD_noise\n",
    "        popt, pcov = curve_fit(delt_GD, xD, yD_data)#训练函数\n",
    "        bD = popt[0]\n",
    "        aD = popt[1]\n",
    "            # if bD < 0:\n",
    "            #     continue\n",
    "            # else:\n",
    "            #     break\n",
    "        yDvals=delt_GD(xD, bD, aD)\n",
    "        plt.plot(D, yD, '*',label='original values')\n",
    "        plt.plot(D, yDvals, 'r',label='curve_fit values')\n",
    "        # plt.ylim(0,1)\n",
    "        plt.xlabel('D axis')\n",
    "        plt.ylabel('GD axis')\n",
    "        plt.legend(loc=3)\n",
    "        plt.title(f\"{your_name} curve_fit aD = %0.2f, bD = %0.2f\" %(aD, bD))\n",
    "        if save:\n",
    "            plt.savefig(your_name + save_name + '.png', dpi=720)\n",
    "            np.savetxt(your_name + save_name + '.txt', yDvals)\n",
    "            print(\"GD-拟合图象与拟合数据已保存！\")\n",
    "        plt.show()\n",
    "        return yDvals, GDmax, aD, bD\n",
    "\n",
    "\n",
    "    if save:\n",
    "        np.savetxt(f\"{your_name}-GP_nor.txt\", GP_nor)\n",
    "        np.savetxt(f\"{your_name}-GD_nor.txt\", GD_nor)\n",
    "        print(\"归一化电导数据已保存！\")\n",
    "\n",
    "    yPvals, yP, aP, bP = curve_fit_GP(P, xP, yP, your_name, save)\n",
    "    yDvals, yD, aD, bD = curve_fit_GD(D, xD, yD, your_name, save)\n",
    "    return aP, bP, aD, bD\n",
    "\n",
    "# 主函数\n",
    "def main(save):\n",
    "    your_name = input(\"请输入你的文件标识(如: 张三的'zs'))\")\n",
    "    aP, bP, aD, bD = my_fit(your_name, save)\n",
    "    print(\"请自行记录下图片中拟合参数的数值！\")\n",
    "    return aP, bP, aD, bD"
   ]
  },
  {
   "cell_type": "code",
   "execution_count": null,
   "metadata": {},
   "outputs": [],
   "source": [
    "aP, bP, aD, bD = main(save=False)\n",
    "\n",
    "parameters = {\n",
    "'a+': aP, 'b+': bP,\n",
    "'a-': aD, 'b-': bD,\n",
    "'wmax': 1, 'wmin': 0,\n",
    "}\n",
    "\n",
    "# print(yPvals)\n",
    "# print(yDvals)"
   ]
  },
  {
   "cell_type": "code",
   "execution_count": 44,
   "metadata": {},
   "outputs": [
    {
     "data": {
      "image/png": "[encoded data removed]",
      "text/plain": [
       "<Figure size 432x288 with 1 Axes>"
      ]
     },
     "metadata": {
      "needs_background": "light"
     },
     "output_type": "display_data"
    }
   ],
   "source": [
    "weight_plus_list = [parameters['wmin']]\n",
    "weight_minus_list = [parameters['wmax']]\n",
    "\n",
    "def weight_plus(w):\n",
    "    delta_w = parameters['a+'] * np.exp(-parameters['b+']*(w-parameters['wmin'])\n",
    "                                             /(parameters['wmax']-parameters['wmin']))\n",
    "    return delta_w\n",
    "def weight_minus(w):\n",
    "    delta_w = parameters['a-'] * np.exp(-parameters['b-']*(parameters['wmax']-w)\n",
    "                                             /(parameters['wmax']-parameters['wmin']))\n",
    "    return delta_w\n",
    "def equation():\n",
    "    count_num = 0\n",
    "    while True:\n",
    "        weight_plus_list.append(weight_plus_list[-1]+weight_plus(weight_plus_list[-1]))\n",
    "        weight_minus_list.append(weight_minus_list[-1]+weight_minus(weight_minus_list[-1]))\n",
    "        count_num += 1\n",
    "        if count_num == 50:\n",
    "            break\n",
    "        else:\n",
    "            continue\n",
    "    \n",
    "    wpl = [(each - weight_plus_list[0]) / (weight_plus_list[-1]-weight_plus_list[0]) for each in weight_plus_list]\n",
    "    wml = [(each - weight_minus_list[-1]) / (weight_minus_list[0]-weight_minus_list[-1]) for each in weight_minus_list]\n",
    "\n",
    "    return np.array(wpl), np.array(wml)\n",
    "\n",
    "GP, GD = equation()\n",
    "\n",
    "plt.plot(GP)\n",
    "plt.plot(GD)\n",
    "plt.show()"
   ]
  },
  {
   "cell_type": "code",
   "execution_count": 36,
   "metadata": {},
   "outputs": [],
   "source": [
    "# 这里主要是建立模型权重与所导入的参数的联系\n",
    "# 利用each_change函数来对更新权重进行处理\n",
    "\n",
    "def findGP_num(data, find_array=GP):\n",
    "    diff = abs(data - find_array)\n",
    "    index = np.where(diff == np.min(diff))[0][0]\n",
    "    # print(index)\n",
    "    return find_array[index]\n",
    "\n",
    "def findGD_num(data, find_array=GD):\n",
    "    diff = abs(data - find_array)\n",
    "    index = np.where(diff == np.min(diff))[0][0]\n",
    "    return find_array[index]\n",
    "\n",
    "\n",
    "# 可以利用G1-G2来实现-1~1的取值范围\n",
    "def each_change(matrix_old, gradw, learning_rate):\n",
    "    matrix_new = matrix_old.copy()\n",
    "    for i in range(matrix_old.shape[0]):\n",
    "        if gradw[i] < 0:\n",
    "            matrix_new[i] = matrix_old[i] + learning_rate*weight_plus(matrix_old[i])\n",
    "            # matrix_new[i] = findGP_num(matrix_old[i])\n",
    "        elif gradw[i] > 0:\n",
    "            # matrix_new[i] = findGD_num(matrix_old[i])\n",
    "            matrix_new[i] = matrix_old[i] + learning_rate*weight_minus(matrix_old[i])\n",
    "        else:\n",
    "            matrix_new[i] = matrix_old[i]\n",
    "    return matrix_new\n",
    "# tmp = np.zeros((10, 1))\n",
    "# each_change(tmp, [0]*len(tmp))"
   ]
  },
  {
   "cell_type": "markdown",
   "metadata": {},
   "source": [
    "## 4.神经网络主体部分\n",
    "\n",
    "这里是神经网络的主体，需要对神经网络模型有一定的了解。\n",
    "\n",
    "如果需要修改层数，需要对应修改 参数初始化、向前传播、参数优化等等的内容"
   ]
  },
  {
   "cell_type": "code",
   "execution_count": 37,
   "metadata": {},
   "outputs": [],
   "source": [
    "# 激活函数\n",
    "def sigmoid(z):\n",
    "    s = 1.0 / (1.0 + np.exp(-1.0*z))\n",
    "    return s\n",
    "\n",
    "# 参数初始化\n",
    "def initialize_with_zeros(seed, dim):\n",
    "    # np.random.seed(seed)\n",
    "    w = np.random.random((dim, 1)) * np.sqrt(2/dim)\n",
    "    b = 0\n",
    "    \n",
    "    assert(w.shape == (dim, 1))\n",
    "    assert(isinstance(b, float) or isinstance(b, int))\n",
    "    \n",
    "    return w, b\n",
    "\n",
    "# 向前传播\n",
    "def propagate(w, b, X, Y):\n",
    "    m = X.shape[1]\n",
    "    \n",
    "    A = sigmoid(np.dot(w.T, X) + b)\n",
    "    cost = -(1.0/m) * np.sum(Y * np.log(A) + (1-Y) * np.log(1-A))\n",
    "    \n",
    "    dw = (1.0/m) * np.dot(X, (A-Y).T)\n",
    "\n",
    "    db = (1.0/m) * np.sum(A-Y)\n",
    "\n",
    "    Y_prediction = np.zeros((1, m))\n",
    "    for i in range(A.shape[1]):\n",
    "        if A[0, i] > 0.5:\n",
    "            Y_prediction[0, i] = 1\n",
    "        else:\n",
    "            Y_prediction[0, i] = 0\n",
    "    accu = 100 - np.mean(np.abs(Y_prediction-Y)) * 100\n",
    "    \n",
    "#     print(f\"(A-Y).shape: {(A-Y).shape}\")\n",
    "#     print(f\"X.shape: {X.shape}\")\n",
    "#     print(f\"w.shape: {w.shape}\")\n",
    "#     print(f\"dw.shape: {dw.shape}\")\n",
    "    \n",
    "    assert(dw.shape == w.shape)\n",
    "    assert(db.dtype == float)\n",
    "    cost = np.squeeze(cost)\n",
    "    assert(cost.shape == ())\n",
    "    grads = {\n",
    "        \"dw\": dw,\n",
    "        \"db\": db\n",
    "    }\n",
    "    \n",
    "    return grads, cost, accu\n",
    "\n",
    "# 参数优化\n",
    "def optimize(w, b, X, Y, num_iterations, learning_rate, print_cost=False):\n",
    "    costs = []\n",
    "    accus = []\n",
    "    for i in track(range(num_iterations)):\n",
    "        grads, cost, accu = propagate(w, b, X, Y)\n",
    "        dw = grads[\"dw\"]\n",
    "        db = grads[\"db\"]\n",
    "        \n",
    "        # w = w - learning_rate * dw # 模型自身的更新权重方式\n",
    "        b = b - learning_rate * db\n",
    "        \n",
    "        #######\n",
    "        # 利用导入的曲线参数进行权重更新\n",
    "        w = each_change(w, dw, learning_rate)\n",
    "        # 让超出范围的权重重置\n",
    "        w[np.where(w>1)] = 0\n",
    "        w[np.where(w<0)] = 0\n",
    "        #######\n",
    "\n",
    "        # 每10次训练保存一次识别率\n",
    "        if i%(10) == 0:\n",
    "            costs.append(cost)\n",
    "            accus.append(accu)\n",
    "        \n",
    "    params = {\n",
    "        \"w\": w,\n",
    "        \"b\": b\n",
    "    }\n",
    "    grads = {\n",
    "        \"dw\": dw,\n",
    "        \"db\": db\n",
    "    }\n",
    "\n",
    "    for each in range(len(accus)):\n",
    "                \n",
    "        if each%10 == 0:\n",
    "            print(\"Cost after iterations %i: %f\" %(each, costs[each]), end=' ')\n",
    "            print(f\"accu: {accus[each]}%\")\n",
    "\n",
    "    # return params, grads, costs\n",
    "    return params, grads, accus\n",
    "\n",
    "# 模型预测\n",
    "def predict(w, b, X):\n",
    "    m = X.shape[1]\n",
    "    Y_prediction = np.zeros((1, m))\n",
    "    w = w.reshape(X.shape[0], 1)\n",
    "    \n",
    "    A = sigmoid(np.dot(w.T, X) + b)\n",
    "    \n",
    "    for i in range(A.shape[1]):\n",
    "        if A[0, i] > 0.5:\n",
    "            Y_prediction[0, i] = 1\n",
    "        else:\n",
    "            Y_prediction[0, i] = 0\n",
    "    assert(Y_prediction.shape == (1, m))\n",
    "    \n",
    "    return Y_prediction\n",
    "\n",
    "def model(X_train, Y_train, X_test, Y_test, num_iterations, learning_rate, seed, print_cost=False):\n",
    "    w, b = initialize_with_zeros(seed, X_train.shape[0])\n",
    "    # parameters, grads, costs= optimize(w, b, X_train, Y_train, num_iterations, learning_rate, print_cost)\n",
    "    parameters, grads, accus= optimize(w, b, X_train, Y_train, num_iterations, learning_rate, print_cost)\n",
    "    w = parameters[\"w\"]\n",
    "    b = parameters[\"b\"]\n",
    "    \n",
    "    Y_prediction_test = predict(w, b, X_test)\n",
    "    Y_prediction_train = predict(w, b, X_train)\n",
    "    \n",
    "    print(\"train accuracy: {}%\".format(100-np.mean(np.abs(Y_prediction_train-Y_train))*100))\n",
    "    print(\"test accuracy: {}%\".format(100-np.mean(np.abs(Y_prediction_test-Y_test))*100))\n",
    "    \n",
    "    d = {\n",
    "        \"accus\": accus,\n",
    "        \"Y_prediction_test\": Y_prediction_test,\n",
    "        \"Y_prediction_train\": Y_prediction_train,\n",
    "        \"w\": w,\n",
    "        \"b\": b,\n",
    "        \"learning_rate\": learning_rate,\n",
    "        \"num_iterations\": num_iterations\n",
    "    }\n",
    "    \n",
    "    return d"
   ]
  },
  {
   "cell_type": "markdown",
   "metadata": {},
   "source": [
    "## 5.运行\n",
    "\n",
    "在前边单元格都运行后，就可以对模型进行训练了。\n",
    "\n",
    "下边单元格中一般需要更改的为学习率`learning_rate`和`num_iterations`，前者控制权重更新步长，一般曲线波动较大可以适当缩小该值，后者控制模型训练多少次，默认1000次即可如果有需要可以自行更改训练次数。\n",
    "\n",
    "在运行过程中会不断打印每100次训练后的`cost`与`accu`，即损失函数与识别准确率。如下图\n",
    "\n",
    "![](./img/training_output.png)\n",
    "\n",
    "运行完毕后会给出`train accuracy`和`test accuracy`的最终结果，并绘制训练过程中的识别率变化曲线，如下图。\n",
    "\n",
    "![](./img/accuracy_example.png)"
   ]
  },
  {
   "cell_type": "code",
   "execution_count": 38,
   "metadata": {},
   "outputs": [
    {
     "data": {
      "application/vnd.jupyter.widget-view+json": {
       "model_id": "9f8c3a80bea247f2aa854fe66e278ad8",
       "version_major": 2,
       "version_minor": 0
      },
      "text/plain": [
       "Output()"
      ]
     },
     "metadata": {},
     "output_type": "display_data"
    },
    {
     "name": "stdout",
     "output_type": "stream",
     "text": [
      "Number 3 Recognition:\n"
     ]
    },
    {
     "data": {
      "text/html": [
       "<pre style=\"white-space:pre;overflow-x:auto;line-height:normal;font-family:Menlo,'DejaVu Sans Mono',consolas,'Courier New',monospace\"></pre>\n"
      ],
      "text/plain": []
     },
     "metadata": {},
     "output_type": "display_data"
    },
    {
     "data": {
      "text/html": [
       "<pre style=\"white-space:pre;overflow-x:auto;line-height:normal;font-family:Menlo,'DejaVu Sans Mono',consolas,'Courier New',monospace\">\n",
       "</pre>\n"
      ],
      "text/plain": [
       "\n"
      ]
     },
     "metadata": {},
     "output_type": "display_data"
    },
    {
     "name": "stdout",
     "output_type": "stream",
     "text": [
      "Cost after iterations 0: 2.438291 accu: 10.218333333333334%\n",
      "Cost after iterations 10: 0.196112 accu: 92.39%\n",
      "Cost after iterations 20: 0.265784 accu: 90.16499999999999%\n",
      "Cost after iterations 30: 0.247326 accu: 91.87833333333333%\n",
      "Cost after iterations 40: 0.262383 accu: 92.20666666666666%\n",
      "Cost after iterations 50: 0.366899 accu: 88.445%\n",
      "Cost after iterations 60: 0.321493 accu: 90.58166666666666%\n",
      "Cost after iterations 70: 0.330508 accu: 91.36166666666666%\n",
      "Cost after iterations 80: 0.342093 accu: 90.22%\n",
      "Cost after iterations 90: 0.383016 accu: 89.12166666666667%\n",
      "train accuracy: 91.26166666666667%\n",
      "test accuracy: 81.21%\n"
     ]
    },
    {
     "data": {
      "image/png": "[encoded data removed]",
      "text/plain": [
       "<Figure size 432x288 with 1 Axes>"
      ]
     },
     "metadata": {
      "needs_background": "light"
     },
     "output_type": "display_data"
    }
   ],
   "source": [
    "for reg_num in range(3, 4):\n",
    "\n",
    "    train_X = train_img.copy().T\n",
    "    train_Y = train_setY(reg_num).T\n",
    "    index_regnum = np.where(train_Y==1)\n",
    "\n",
    "    # 运行此单元格进行训练\n",
    "\n",
    "    print(f\"Number {reg_num} Recognition:\")\n",
    "\n",
    "    learning_rate=1 # 学习率：0~1\n",
    "    num_iterations = 1000 # 训练次数\n",
    "\n",
    "    d = model(train_X, train_Y, test_X, test_Y, seed=6, num_iterations=num_iterations, learning_rate=learning_rate, print_cost=False)\n",
    "\n",
    "    accus = d[\"accus\"].copy()\n",
    "    \n",
    "    plt.plot(accus, label=f'Num {reg_num}')\n",
    "\n",
    "plt.ylim(0, 100) # 绘制识别率曲线时的y轴显示范围\n",
    "plt.legend()\n",
    "plt.show()"
   ]
  },
  {
   "cell_type": "code",
   "execution_count": 29,
   "metadata": {},
   "outputs": [
    {
     "data": {
      "image/png": "[encoded data removed]",
      "text/plain": [
       "<Figure size 432x288 with 1 Axes>"
      ]
     },
     "metadata": {
      "needs_background": "light"
     },
     "output_type": "display_data"
    },
    {
     "name": "stdout",
     "output_type": "stream",
     "text": [
      "[0.] [0.06979106]\n"
     ]
    }
   ],
   "source": [
    "w = d[\"w\"].copy()\n",
    "plt.imshow(w.reshape((28,28)))\n",
    "plt.axis('off')\n",
    "plt.pause(0.1)\n",
    "print(min(w), max(w))"
   ]
  },
  {
   "cell_type": "markdown",
   "metadata": {},
   "source": [
    "## 6.保存数据\n",
    "\n",
    "运行完上述所有单元格后，需不需要保存对应的数据文件就看个人需求了。\n",
    "\n",
    "运行完毕后，所有数据均保存在字典`d`中，如图所示。\n",
    "\n",
    "![](./img/%E5%AD%97%E5%85%B8d%E4%B8%AD%E7%9A%84%E6%95%B0%E6%8D%AE%E7%BB%93%E6%9E%84.png)\n",
    "\n",
    "其中，\n",
    "- `accus`保存的是整个训练过程中的准确率数据，每100次训练保存一次。\n",
    "- `w`为训练完毕后，模型的权重\n",
    "- `b`为训练完毕后，模型的偏置\n",
    "\n",
    "一般需要的就是`accus`保存的数据，有时候如果矩阵`w`通过`plt.imshow()`能够绘制出较为清晰的数字的话，也可以保存一下，但一般不需要，自行选择。"
   ]
  },
  {
   "cell_type": "code",
   "execution_count": null,
   "metadata": {},
   "outputs": [],
   "source": [
    "name = 'your_filename' # 在这里设置你要保存的文件名\n",
    "\n",
    "np.savetxt(f\"./output/{name} 数字{reg_num} 学习率{learning_rate}.txt\", accus) # reg_num 对应前面的针对哪个数字训练\n",
    "\n",
    "# 这里只需要设置name，运行完毕此单元格会自动将训练识别率数据保存为文件，命名格式为 “自己设置的名字 数字{训练数字} 学习率{本次训练中设置的学习率}.txt”"
   ]
  },
  {
   "cell_type": "markdown",
   "metadata": {},
   "source": [
    "## 7.可视化权重矩阵\n",
    "\n",
    "目前算法还存在一些问题。\n",
    "\n",
    "比如如果使用突触器件的数据进行训练，权重矩阵可视化后一般看不出数字的样子。下图中勉强能看到数字3的轮廓\n",
    "\n",
    "![](./img/%E6%A8%A1%E5%9E%8B%E8%AE%AD%E7%BB%83%E5%90%8E%E7%9A%84%E6%95%B0%E5%AD%973.png)\n",
    "\n",
    "但是如果让模型自己训练，权重矩阵反而能看出来数字的轮廓。\n",
    "\n",
    "猜测是因为模型自己调整的权重有着更灵活的范围调整\n",
    "但是使用突触器件数据的权重矩阵只能按照器件的数据曲线进行变化，所以可能会导致权重数值没办法稳定在一个合适的范围内。\n",
    "\n"
   ]
  },
  {
   "cell_type": "code",
   "execution_count": null,
   "metadata": {},
   "outputs": [],
   "source": [
    "w = d[\"w\"].copy()\n",
    "# w[np.where(w<0)] = 0\n",
    "plt.imshow(w.reshape((28,28)))\n",
    "plt.axis('off')\n",
    "plt.pause(0.1)\n",
    "\n",
    "# 如果想要保存本次训练的权重数据，将下面一行取消注释并运行即可，文件会命名为 “name w{识别的数字}_aftertrain”，要注意是否会和之前保存的文件冲突而导致覆盖丢失数据\n",
    "# np.savetxt(f\"./output/{name} w{reg_num}_aftertrain.txt\", w.reshape((28,28)))\n"
   ]
  }
 ],
 "metadata": {
  "kernelspec": {
   "display_name": "Python 3 (ipykernel)",
   "language": "python",
   "name": "python3"
  },
  "language_info": {
   "codemirror_mode": {
    "name": "ipython",
    "version": 3
   },
   "file_extension": ".py",
   "mimetype": "text/x-python",
   "name": "python",
   "nbconvert_exporter": "python",
   "pygments_lexer": "ipython3",
   "version": "3.9.12"
  }
 },
 "nbformat": 4,
 "nbformat_minor": 2
}
